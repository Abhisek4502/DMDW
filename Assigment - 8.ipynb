{
 "cells": [
  {
   "cell_type": "code",
   "execution_count": 10,
   "id": "f52b4690",
   "metadata": {},
   "outputs": [],
   "source": [
    "import numpy as np \n",
    "import pandas as pd \n",
    "from sklearn.metrics import confusion_matrix  \n",
    "from sklearn.tree import DecisionTreeClassifier \n",
    "from sklearn.metrics import accuracy_score \n",
    "from sklearn.metrics import classification_report"
   ]
  },
  {
   "cell_type": "code",
   "execution_count": 41,
   "id": "7ce36b94",
   "metadata": {},
   "outputs": [],
   "source": [
    "def importdata():\n",
    "    PLAY_TENNIS=pd.read_csv()\n",
    "    print(\"Dataset Length: \", len(PLAY_TENNIS))\n",
    "    print(\"Dataset Shape: \", PLAY_TENNIS.shape)\n",
    "    print(\"Dataset: \",PLAY_TENNIS.head()) \n",
    "    return PLAY_TENNIS"
   ]
  },
  {
   "cell_type": "code",
   "execution_count": 43,
   "id": "814e3d92",
   "metadata": {},
   "outputs": [],
   "source": [
    "def splitdataset(PLAY_TENNIS):\n",
    "    X =PLAY_TENNIS.values[:, 1:5]\n",
    "    Y =PLAY_TENNIS.values[:, 0]\n",
    "    X_train ,X_test, y_train, y_test =train_test_split( \n",
    "    X, Y, test_size =0.3, random_state =100)\n",
    "    return X, Y, X_train, X_test, Y_train, Y_test"
   ]
  },
  {
   "cell_type": "code",
   "execution_count": 44,
   "id": "edc3eac4",
   "metadata": {},
   "outputs": [],
   "source": [
    "def train_using_gini(X_train, X_test, y_train):\n",
    "     # Creating the classifier object \n",
    "     clf_gini =DecisionTreeClassifier(criterion =\"gini\", \n",
    "     random_state =100,max_depth=3, min_samples_leaf=5) \n",
    "     # Performing training \n",
    "     clf_gini.fit(X_train, y_train) \n",
    "     return clf_gini "
   ]
  },
  {
   "cell_type": "code",
   "execution_count": 46,
   "id": "34d8c7e4",
   "metadata": {},
   "outputs": [],
   "source": [
    "def tarin_using_entropy(X_train, X_test, y_train):\n",
    "     # Decision tree with entropy \n",
    "     clf_entropy =DecisionTreeClassifier( \n",
    "     criterion =\"entropy\", random_state =100, \n",
    "     max_depth =3, min_samples_leaf =5) \n",
    "     # Performing training \n",
    "     clf_entropy.fit(X_train, y_train) \n",
    "     return clf_entropy "
   ]
  },
  {
   "cell_type": "code",
   "execution_count": 47,
   "id": "90fbcd7c",
   "metadata": {},
   "outputs": [],
   "source": [
    "def prediction(X_test, clf_object):\n",
    "     # Predicton on test with giniIndex \n",
    "     y_pred =clf_object.predict(X_test) \n",
    "     print(\"Predicted values:\") \n",
    "     print(y_pred) \n",
    "     return y_pred "
   ]
  },
  {
   "cell_type": "code",
   "execution_count": 49,
   "id": "fbe86273",
   "metadata": {},
   "outputs": [],
   "source": [
    "def cal_accuracy(y_test, y_pred):\n",
    "     print(\"Confusion Matrix: \", \n",
    "     confusion_matrix(y_test, y_pred)) \n",
    " \n",
    "     print(\"Accuracy : \", \n",
    "     accuracy_score(y_test,y_pred)*100) \n",
    " \n",
    "     print(\"Report : \", \n",
    "     classification_report(y_test, y_pred)) "
   ]
  },
  {
   "cell_type": "code",
   "execution_count": 50,
   "id": "b2a2f286",
   "metadata": {},
   "outputs": [],
   "source": [
    "def main():\n",
    "     # Building Phase \n",
    "     data =importdata() \n",
    "     X, Y, X_train, X_test, y_train, y_test =splitdataset(data) \n",
    "     clf_gini =train_using_gini(X_train, X_test, y_train) \n",
    "     clf_entropy =tarin_using_entropy(X_train, X_test, y_train) \n",
    " \n",
    "     # Operational Phase \n",
    "     print(\"Results Using Gini Index:\") \n",
    " \n",
    "     # Prediction using gini \n",
    "     y_pred_gini =prediction(X_test, clf_gini) \n",
    "     cal_accuracy(y_test, y_pred_gini) \n",
    " \n",
    "     print(\"Results Using Entropy:\") \n",
    "     # Prediction using entropy \n",
    "     y_pred_entropy =prediction(X_test, clf_entropy) \n",
    "     cal_accuracy(y_test, y_pred_entropy)"
   ]
  },
  {
   "cell_type": "code",
   "execution_count": 53,
   "id": "8a6d7263",
   "metadata": {},
   "outputs": [],
   "source": [
    "if __name__ ==\"main\": \n",
    " main()"
   ]
  },
  {
   "cell_type": "code",
   "execution_count": null,
   "id": "862b4f56",
   "metadata": {},
   "outputs": [],
   "source": []
  }
 ],
 "metadata": {
  "kernelspec": {
   "display_name": "Python 3 (ipykernel)",
   "language": "python",
   "name": "python3"
  },
  "language_info": {
   "codemirror_mode": {
    "name": "ipython",
    "version": 3
   },
   "file_extension": ".py",
   "mimetype": "text/x-python",
   "name": "python",
   "nbconvert_exporter": "python",
   "pygments_lexer": "ipython3",
   "version": "3.10.9"
  }
 },
 "nbformat": 4,
 "nbformat_minor": 5
}

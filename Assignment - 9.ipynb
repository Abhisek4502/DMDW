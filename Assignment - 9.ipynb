{
 "cells": [
  {
   "cell_type": "code",
   "execution_count": 3,
   "id": "77923557",
   "metadata": {},
   "outputs": [],
   "source": [
    "import pandas as pd\n",
    "import numpy as np\n",
    "\n",
    "data = {\n",
    "    'Height': [1.70, 1.90, 1.78, 1.73, 1.81, 1.73, 1.80, 1.75],\n",
    "    'Weight': [65, 85, 76, 74, 75, 70, 71, 69],\n",
    "    'Age': [20, 33, 31, 24, 35, 75, 63, 25],\n",
    "    'Class': ['Programmer', 'Builder', 'Builder', 'Programmer', 'Builder', 'Scientist', 'Scientist', 'Programmer']\n",
    "}"
   ]
  },
  {
   "cell_type": "code",
   "execution_count": 4,
   "id": "53185674",
   "metadata": {},
   "outputs": [],
   "source": [
    "df = pd.DataFrame(data)\n",
    "\n",
    "new_data_point = {\n",
    "    'Height': 1.69,\n",
    "    'Weight': 75,\n",
    "    'Age': 37,\n",
    "}"
   ]
  },
  {
   "cell_type": "code",
   "execution_count": 5,
   "id": "4601d1a4",
   "metadata": {},
   "outputs": [],
   "source": [
    "k = 3 \n",
    "\n",
    "df['Distance'] = np.sqrt(\n",
    "    (df['Height'] - new_data_point['Height'])**2 +\n",
    "    (df['Weight'] - new_data_point['Weight'])**2 +\n",
    "    (df['Age'] - new_data_point['Age'])**2\n",
    ")"
   ]
  },
  {
   "cell_type": "code",
   "execution_count": 6,
   "id": "0d99aa93",
   "metadata": {},
   "outputs": [],
   "source": [
    "df = df.sort_values(by='Distance')"
   ]
  },
  {
   "cell_type": "code",
   "execution_count": 7,
   "id": "eef80b81",
   "metadata": {},
   "outputs": [],
   "source": [
    "k_nearest_neighbors = df.head(k)"
   ]
  },
  {
   "cell_type": "code",
   "execution_count": 8,
   "id": "0cd1301f",
   "metadata": {},
   "outputs": [],
   "source": [
    "class_counts = k_nearest_neighbors['Class'].value_counts()"
   ]
  },
  {
   "cell_type": "code",
   "execution_count": 9,
   "id": "16237961",
   "metadata": {},
   "outputs": [
    {
     "name": "stdout",
     "output_type": "stream",
     "text": [
      "Predicted Class: Builder\n"
     ]
    }
   ],
   "source": [
    "predicted_class = class_counts.idxmax()\n",
    "\n",
    "print(f\"Predicted Class: {predicted_class}\")"
   ]
  },
  {
   "cell_type": "code",
   "execution_count": null,
   "id": "7bda500e",
   "metadata": {},
   "outputs": [],
   "source": []
  }
 ],
 "metadata": {
  "kernelspec": {
   "display_name": "Python 3 (ipykernel)",
   "language": "python",
   "name": "python3"
  },
  "language_info": {
   "codemirror_mode": {
    "name": "ipython",
    "version": 3
   },
   "file_extension": ".py",
   "mimetype": "text/x-python",
   "name": "python",
   "nbconvert_exporter": "python",
   "pygments_lexer": "ipython3",
   "version": "3.11.3"
  }
 },
 "nbformat": 4,
 "nbformat_minor": 5
}
